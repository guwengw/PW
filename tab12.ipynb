{
 "cells": [
  {
   "cell_type": "markdown",
   "metadata": {},
   "source": [
    "# This notebook contains the figures relatives to the Table 1 and 2 of the paper"
   ]
  },
  {
   "cell_type": "markdown",
   "metadata": {},
   "source": [
    "The performances may slightly differ from the figures reported in the paper as we did not fix the seed to draw the datasets. However, it does not change any conclusions!"
   ]
  },
  {
   "cell_type": "code",
   "execution_count": 1,
   "metadata": {},
   "outputs": [
    {
     "name": "stderr",
     "output_type": "stream",
     "text": [
      "/Applications/anaconda3/lib/python3.7/site-packages/sklearn/utils/deprecation.py:144: FutureWarning: The sklearn.datasets.samples_generator module is  deprecated in version 0.22 and will be removed in version 0.24. The corresponding classes / functions should instead be imported from sklearn.datasets. Anything that cannot be imported from sklearn.datasets is now part of the private API.\n",
      "  warnings.warn(message, FutureWarning)\n"
     ]
    }
   ],
   "source": [
    "import utils\n",
    "import numpy as np\n",
    "from IPython.display import HTML, display, Markdown\n",
    "import pandas as pd\n",
    "\n",
    "import ot\n",
    "import partial_gw as pgw\n",
    "import matplotlib.pyplot as plt"
   ]
  },
  {
   "cell_type": "markdown",
   "metadata": {},
   "source": [
    "## UCI dataset - SCAR scenario"
   ]
  },
  {
   "cell_type": "code",
   "execution_count": 2,
   "metadata": {},
   "outputs": [],
   "source": [
    "n_unl = 800\n",
    "n_pos = 400\n",
    "nb_reps = 10\n",
    "nb_dummies = 10\n"
   ]
  },
  {
   "cell_type": "markdown",
   "metadata": {},
   "source": [
    "### Partial-W"
   ]
  },
  {
   "cell_type": "code",
   "execution_count": 3,
   "metadata": {},
   "outputs": [],
   "source": [
    "prior = 0.518\n",
    "perfs_mushrooms, perfs_list_mushrooms = pgw.compute_perf_emd('mushrooms', 'mushrooms', n_unl, n_pos, prior, nb_reps, nb_dummies)\n",
    "avg_mush_emd_groups =  perfs_mushrooms['emd_groups']\n",
    "\n",
    "prior = 0.786\n",
    "perfs_shuttle, perfs_list_shuttle = pgw.compute_perf_emd('shuttle', 'shuttle', n_unl, n_pos, prior, nb_reps, nb_dummies)\n",
    "avg_shut_emd_groups =  perfs_shuttle['emd_groups']\n",
    "\n",
    "prior = 0.898\n",
    "perfs_pageblocks, perfs_list_pageblocks = pgw.compute_perf_emd('pageblocks', 'pageblocks', n_unl, n_pos, prior, nb_reps, nb_dummies)\n",
    "avg_page_emd_groups =  perfs_pageblocks['emd_groups']\n",
    "\n",
    "prior = 0.167\n",
    "perfs_usps, perfs_list_usps = pgw.compute_perf_emd('usps', 'usps', n_unl, n_pos, prior, nb_reps, nb_dummies)\n",
    "avg_usps_emd_groups =  perfs_usps['emd_groups']\n",
    "\n",
    "prior = 0.658\n",
    "perfs_connect4, perfs_list_connect4 = pgw.compute_perf_emd('connect-4', 'connect-4', n_unl, n_pos, prior, nb_reps, nb_dummies)\n",
    "avg_connect4_emd_groups =  perfs_connect4['emd_groups']\n",
    "\n",
    "prior = 0.394\n",
    "perfs_spambase, perfs_list_spambase = pgw.compute_perf_emd('spambase', 'spambase', n_unl, n_pos, prior, nb_reps, nb_dummies)\n",
    "avg_spambase_emd_groups =  perfs_spambase['emd_groups']"
   ]
  },
  {
   "cell_type": "markdown",
   "metadata": {},
   "source": [
    "### Partial-GW"
   ]
  },
  {
   "cell_type": "code",
   "execution_count": 4,
   "metadata": {},
   "outputs": [],
   "source": [
    "prior = 0.518\n",
    "perfs_mushrooms, perfs_list_mushrooms = pgw.compute_perf_pgw('mushrooms', 'mushrooms', n_unl, n_pos, prior, nb_reps, nb_dummies)\n",
    "avg_mush_gw_groups =  perfs_mushrooms['pgw']\n",
    "\n",
    "prior = 0.786\n",
    "perfs_shuttle, perfs_list_shuttle = pgw.compute_perf_pgw('shuttle', 'shuttle', n_unl, n_pos, prior, nb_reps, nb_dummies)\n",
    "avg_shut_gw_groups =  perfs_shuttle['pgw']\n",
    "\n",
    "prior = 0.898\n",
    "perfs_pageblocks, perfs_list_pageblocks = pgw.compute_perf_pgw('pageblocks', 'pageblocks', n_unl, n_pos, prior, nb_reps, nb_dummies)\n",
    "avg_page_gw_groups =  perfs_pageblocks['pgw']\n",
    "\n",
    "prior = 0.167\n",
    "perfs_usps, perfs_list_usps = pgw.compute_perf_pgw('usps', 'usps', n_unl, n_pos, prior, nb_reps, nb_dummies)\n",
    "avg_usps_gw_groups =  perfs_usps['pgw']\n",
    "\n",
    "prior = 0.658\n",
    "perfs_connect4, perfs_list_connect4 = pgw.compute_perf_pgw('connect-4', 'connect-4', n_unl, n_pos, prior, nb_reps, nb_dummies)\n",
    "avg_connect4_gw_groups =  perfs_connect4['pgw']\n",
    "\n",
    "prior = 0.394\n",
    "perfs_spambase, perfs_list_spambase = pgw.compute_perf_pgw('spambase', 'spambase', n_unl, n_pos, prior, nb_reps, nb_dummies)\n",
    "avg_spambase_gw_groups =  perfs_spambase['pgw']"
   ]
  },
  {
   "cell_type": "markdown",
   "metadata": {},
   "source": [
    "### Tab.1"
   ]
  },
  {
   "cell_type": "code",
   "execution_count": 5,
   "metadata": {},
   "outputs": [
    {
     "data": {
      "text/html": [
       "<div>\n",
       "<style scoped>\n",
       "    .dataframe tbody tr th:only-of-type {\n",
       "        vertical-align: middle;\n",
       "    }\n",
       "\n",
       "    .dataframe tbody tr th {\n",
       "        vertical-align: top;\n",
       "    }\n",
       "\n",
       "    .dataframe thead th {\n",
       "        text-align: right;\n",
       "    }\n",
       "</style>\n",
       "<table border=\"1\" class=\"dataframe\">\n",
       "  <thead>\n",
       "    <tr style=\"text-align: right;\">\n",
       "      <th></th>\n",
       "      <th>dataset</th>\n",
       "      <th>$\\pi$</th>\n",
       "      <th>p-W</th>\n",
       "      <th>p-GW</th>\n",
       "    </tr>\n",
       "  </thead>\n",
       "  <tbody>\n",
       "    <tr>\n",
       "      <th>0</th>\n",
       "      <td>mushrooms</td>\n",
       "      <td>0.518</td>\n",
       "      <td>0.9605</td>\n",
       "      <td>0.9465</td>\n",
       "    </tr>\n",
       "    <tr>\n",
       "      <th>1</th>\n",
       "      <td>shuttle</td>\n",
       "      <td>0.786</td>\n",
       "      <td>0.9570</td>\n",
       "      <td>0.9430</td>\n",
       "    </tr>\n",
       "    <tr>\n",
       "      <th>2</th>\n",
       "      <td>pageblocks</td>\n",
       "      <td>0.898</td>\n",
       "      <td>0.9210</td>\n",
       "      <td>0.9070</td>\n",
       "    </tr>\n",
       "    <tr>\n",
       "      <th>3</th>\n",
       "      <td>usps</td>\n",
       "      <td>0.167</td>\n",
       "      <td>0.9850</td>\n",
       "      <td>0.9415</td>\n",
       "    </tr>\n",
       "    <tr>\n",
       "      <th>4</th>\n",
       "      <td>connect-4</td>\n",
       "      <td>0.658</td>\n",
       "      <td>0.6070</td>\n",
       "      <td>0.5950</td>\n",
       "    </tr>\n",
       "    <tr>\n",
       "      <th>5</th>\n",
       "      <td>spambase</td>\n",
       "      <td>0.394</td>\n",
       "      <td>0.7825</td>\n",
       "      <td>0.7075</td>\n",
       "    </tr>\n",
       "  </tbody>\n",
       "</table>\n",
       "</div>"
      ],
      "text/plain": [
       "      dataset  $\\pi$     p-W    p-GW\n",
       "0   mushrooms  0.518  0.9605  0.9465\n",
       "1     shuttle  0.786  0.9570  0.9430\n",
       "2  pageblocks  0.898  0.9210  0.9070\n",
       "3        usps  0.167  0.9850  0.9415\n",
       "4   connect-4  0.658  0.6070  0.5950\n",
       "5    spambase  0.394  0.7825  0.7075"
      ]
     },
     "execution_count": 5,
     "metadata": {},
     "output_type": "execute_result"
    }
   ],
   "source": [
    "results_UCI = {'dataset':['mushrooms', 'shuttle', 'pageblocks', 'usps', 'connect-4', 'spambase'], \n",
    "               '$\\pi$': [0.518, 0.786, 0.898, 0.167, 0.658, 0.394],\n",
    "               'p-W': [avg_mush_emd_groups, avg_shut_emd_groups, avg_page_emd_groups, avg_usps_emd_groups, avg_connect4_emd_groups, avg_spambase_emd_groups],\n",
    "               'p-GW': [avg_mush_gw_groups, avg_shut_gw_groups, avg_page_gw_groups, avg_usps_gw_groups, avg_connect4_gw_groups, avg_spambase_gw_groups]\n",
    "              }\n",
    "results_UCI = pd.DataFrame(data=results_UCI)\n",
    "results_UCI"
   ]
  },
  {
   "cell_type": "markdown",
   "metadata": {},
   "source": [
    "## Colored MNIST dataset - SAR scenario"
   ]
  },
  {
   "cell_type": "code",
   "execution_count": 6,
   "metadata": {},
   "outputs": [],
   "source": [
    "n_unl = 800\n",
    "n_pos = 400\n",
    "nb_reps = 10\n",
    "nb_dummies = 10\n",
    "prior = 0.1"
   ]
  },
  {
   "cell_type": "markdown",
   "metadata": {},
   "source": [
    "### Partial-W"
   ]
  },
  {
   "cell_type": "code",
   "execution_count": 7,
   "metadata": {},
   "outputs": [],
   "source": [
    "perfs_mnist, perfs_list_mnist = pgw.compute_perf_emd('mnist', 'mnist', n_unl, n_pos, prior, nb_reps, nb_dummies)\n",
    "avg_mnist_emd_groups =  perfs_mnist['emd_groups']\n",
    "\n",
    "perfs_mnist, perfs_list_mnist = pgw.compute_perf_emd('mnist_color_change_p', 'mnist_color_change_u', n_unl, n_pos, prior, nb_reps, nb_dummies)\n",
    "avg_colored_mnist_emd_groups =  perfs_mnist['emd_groups']"
   ]
  },
  {
   "cell_type": "markdown",
   "metadata": {},
   "source": [
    "### Partial-GW"
   ]
  },
  {
   "cell_type": "code",
   "execution_count": 8,
   "metadata": {},
   "outputs": [],
   "source": [
    "perfs_mnist, perfs_list_mnist = pgw.compute_perf_pgw('mnist', 'mnist', n_unl, n_pos, prior, nb_reps, nb_dummies)\n",
    "avg_mnist_gw_groups =  perfs_mnist['pgw']\n",
    "\n",
    "perfs_mnist, perfs_list_mnist = pgw.compute_perf_pgw('mnist_color_change_p', 'mnist_color_change_u', n_unl, n_pos, prior, nb_reps, nb_dummies)\n",
    "avg_colored_mnist_gw_groups =  perfs_mnist['pgw']\n"
   ]
  },
  {
   "cell_type": "markdown",
   "metadata": {},
   "source": [
    "### Tab. 1 (continued)"
   ]
  },
  {
   "cell_type": "code",
   "execution_count": 9,
   "metadata": {},
   "outputs": [
    {
     "data": {
      "text/html": [
       "<div>\n",
       "<style scoped>\n",
       "    .dataframe tbody tr th:only-of-type {\n",
       "        vertical-align: middle;\n",
       "    }\n",
       "\n",
       "    .dataframe tbody tr th {\n",
       "        vertical-align: top;\n",
       "    }\n",
       "\n",
       "    .dataframe thead th {\n",
       "        text-align: right;\n",
       "    }\n",
       "</style>\n",
       "<table border=\"1\" class=\"dataframe\">\n",
       "  <thead>\n",
       "    <tr style=\"text-align: right;\">\n",
       "      <th></th>\n",
       "      <th>dataset</th>\n",
       "      <th>$\\pi$</th>\n",
       "      <th>p-W</th>\n",
       "      <th>p-GW</th>\n",
       "    </tr>\n",
       "  </thead>\n",
       "  <tbody>\n",
       "    <tr>\n",
       "      <th>0</th>\n",
       "      <td>mnist</td>\n",
       "      <td>0.1</td>\n",
       "      <td>0.9875</td>\n",
       "      <td>0.9785</td>\n",
       "    </tr>\n",
       "    <tr>\n",
       "      <th>1</th>\n",
       "      <td>colored mnist</td>\n",
       "      <td>0.1</td>\n",
       "      <td>0.9145</td>\n",
       "      <td>0.9680</td>\n",
       "    </tr>\n",
       "  </tbody>\n",
       "</table>\n",
       "</div>"
      ],
      "text/plain": [
       "         dataset  $\\pi$     p-W    p-GW\n",
       "0          mnist    0.1  0.9875  0.9785\n",
       "1  colored mnist    0.1  0.9145  0.9680"
      ]
     },
     "execution_count": 9,
     "metadata": {},
     "output_type": "execute_result"
    }
   ],
   "source": [
    "results_MNIST = {'dataset':['mnist', 'colored mnist'], \n",
    "               '$\\pi$': [0.1, 0.1],\n",
    "               'p-W': [avg_mnist_emd_groups, avg_colored_mnist_emd_groups],\n",
    "               'p-GW': [avg_mnist_gw_groups, avg_colored_mnist_gw_groups]\n",
    "              }\n",
    "results_MNIST = pd.DataFrame(data=results_MNIST)\n",
    "results_MNIST"
   ]
  },
  {
   "cell_type": "markdown",
   "metadata": {},
   "source": [
    "## Caltech dataset - PU on different domains"
   ]
  },
  {
   "cell_type": "code",
   "execution_count": 10,
   "metadata": {},
   "outputs": [],
   "source": [
    "n_unl = 100\n",
    "n_pos = 100\n",
    "nb_reps = 10\n",
    "nb_dummies = 10\n",
    "prior = 0.1"
   ]
  },
  {
   "cell_type": "code",
   "execution_count": 11,
   "metadata": {},
   "outputs": [],
   "source": [
    "avg_caltech_emd_groups = []\n",
    "avg_caltech_gw_groups = []\n",
    "domain_u = ['surf_Caltech10', 'surf_amazon', 'surf_webcam', 'surf_dslr']\n",
    "for d in domain_u:\n",
    "    perfs_caltech_surf, perfs_list_caltech_surf = pgw.compute_perf_emd('surf_Caltech10', d, n_unl, n_pos, prior, nb_reps, nb_dummies)\n",
    "    avg_caltech_emd_groups.append(perfs_caltech_surf['emd_groups'])\n",
    "    perfs_caltech_surf, perfs_list_caltech_surf = pgw.compute_perf_pgw('surf_Caltech10', d, n_unl, n_pos, prior, nb_reps, nb_dummies)\n",
    "    avg_caltech_gw_groups.append(perfs_caltech_surf['pgw'])\n",
    "domain_u = ['decaf_caltech', 'decaf_amazon', 'decaf_webcam', 'decaf_dslr']\n",
    "for d in domain_u:\n",
    "    perfs_caltech_surf, perfs_list_caltech_surf = pgw.compute_perf_emd('decaf_caltech', d, n_unl, n_pos, prior, nb_reps, nb_dummies)\n",
    "    avg_caltech_emd_groups.append(perfs_caltech_surf['emd_groups'])\n",
    "    perfs_caltech_surf, perfs_list_caltech_surf = pgw.compute_perf_pgw('decaf_caltech', d, n_unl, n_pos, prior, nb_reps, nb_dummies)\n",
    "    avg_caltech_gw_groups.append(perfs_caltech_surf['pgw'])"
   ]
  },
  {
   "cell_type": "markdown",
   "metadata": {},
   "source": [
    "### Tab.1 (continued)"
   ]
  },
  {
   "cell_type": "code",
   "execution_count": 12,
   "metadata": {},
   "outputs": [
    {
     "data": {
      "text/html": [
       "<div>\n",
       "<style scoped>\n",
       "    .dataframe tbody tr th:only-of-type {\n",
       "        vertical-align: middle;\n",
       "    }\n",
       "\n",
       "    .dataframe tbody tr th {\n",
       "        vertical-align: top;\n",
       "    }\n",
       "\n",
       "    .dataframe thead th {\n",
       "        text-align: right;\n",
       "    }\n",
       "</style>\n",
       "<table border=\"1\" class=\"dataframe\">\n",
       "  <thead>\n",
       "    <tr style=\"text-align: right;\">\n",
       "      <th></th>\n",
       "      <th>dataset</th>\n",
       "      <th>$\\pi$</th>\n",
       "      <th>p-W</th>\n",
       "      <th>p-GW</th>\n",
       "    </tr>\n",
       "  </thead>\n",
       "  <tbody>\n",
       "    <tr>\n",
       "      <th>0</th>\n",
       "      <td>surf C -&gt; surf C</td>\n",
       "      <td>0.1</td>\n",
       "      <td>0.900</td>\n",
       "      <td>0.864</td>\n",
       "    </tr>\n",
       "    <tr>\n",
       "      <th>1</th>\n",
       "      <td>surf C -&gt; surf A</td>\n",
       "      <td>0.1</td>\n",
       "      <td>0.816</td>\n",
       "      <td>0.870</td>\n",
       "    </tr>\n",
       "    <tr>\n",
       "      <th>2</th>\n",
       "      <td>surf C -&gt; surf W</td>\n",
       "      <td>0.1</td>\n",
       "      <td>0.822</td>\n",
       "      <td>0.862</td>\n",
       "    </tr>\n",
       "    <tr>\n",
       "      <th>3</th>\n",
       "      <td>surf C -&gt; surf D</td>\n",
       "      <td>0.1</td>\n",
       "      <td>0.800</td>\n",
       "      <td>0.880</td>\n",
       "    </tr>\n",
       "    <tr>\n",
       "      <th>4</th>\n",
       "      <td>decaf C -&gt; decaf C</td>\n",
       "      <td>0.1</td>\n",
       "      <td>0.940</td>\n",
       "      <td>0.862</td>\n",
       "    </tr>\n",
       "    <tr>\n",
       "      <th>5</th>\n",
       "      <td>decaf C -&gt; decaf A</td>\n",
       "      <td>0.1</td>\n",
       "      <td>0.802</td>\n",
       "      <td>0.878</td>\n",
       "    </tr>\n",
       "    <tr>\n",
       "      <th>6</th>\n",
       "      <td>decaf C -&gt; decaf W</td>\n",
       "      <td>0.1</td>\n",
       "      <td>0.802</td>\n",
       "      <td>0.886</td>\n",
       "    </tr>\n",
       "    <tr>\n",
       "      <th>7</th>\n",
       "      <td>decaf C -&gt; decaf D</td>\n",
       "      <td>0.1</td>\n",
       "      <td>0.808</td>\n",
       "      <td>0.924</td>\n",
       "    </tr>\n",
       "  </tbody>\n",
       "</table>\n",
       "</div>"
      ],
      "text/plain": [
       "              dataset  $\\pi$    p-W   p-GW\n",
       "0    surf C -> surf C    0.1  0.900  0.864\n",
       "1    surf C -> surf A    0.1  0.816  0.870\n",
       "2    surf C -> surf W    0.1  0.822  0.862\n",
       "3    surf C -> surf D    0.1  0.800  0.880\n",
       "4  decaf C -> decaf C    0.1  0.940  0.862\n",
       "5  decaf C -> decaf A    0.1  0.802  0.878\n",
       "6  decaf C -> decaf W    0.1  0.802  0.886\n",
       "7  decaf C -> decaf D    0.1  0.808  0.924"
      ]
     },
     "execution_count": 12,
     "metadata": {},
     "output_type": "execute_result"
    }
   ],
   "source": [
    "results_caltech_diff_domains = {'dataset':['surf C -> surf C', 'surf C -> surf A', 'surf C -> surf W', 'surf C -> surf D', 'decaf C -> decaf C', 'decaf C -> decaf A', 'decaf C -> decaf W', 'decaf C -> decaf D'], \n",
    "               '$\\pi$': [0.1]*8,\n",
    "               'p-W': avg_caltech_emd_groups,\n",
    "               'p-GW': avg_caltech_gw_groups\n",
    "              }\n",
    "results_caltech_diff_domains = pd.DataFrame(data=results_caltech_diff_domains)\n",
    "results_caltech_diff_domains"
   ]
  },
  {
   "cell_type": "markdown",
   "metadata": {},
   "source": [
    "## Caltech dataset - PU on different feature spaces"
   ]
  },
  {
   "cell_type": "code",
   "execution_count": 13,
   "metadata": {},
   "outputs": [],
   "source": [
    "avg_caltech_gw_groups_surf = []\n",
    "avg_caltech_gw_groups_decaf = []\n",
    "domain_u = ['surf_Caltech10', 'surf_amazon', 'surf_webcam', 'surf_dslr']\n",
    "for d in domain_u:\n",
    "    perfs_caltech_surf, perfs_list_caltech_surf = pgw.compute_perf_pgw('decaf_caltech', d, n_unl, n_pos, prior, nb_reps, nb_dummies)\n",
    "    avg_caltech_gw_groups_decaf.append(perfs_caltech_surf['pgw'])\n",
    "domain_u = ['decaf_caltech', 'decaf_amazon', 'decaf_webcam', 'decaf_dslr']\n",
    "for d in domain_u:\n",
    "    perfs_caltech_surf, perfs_list_caltech_surf = pgw.compute_perf_pgw('surf_Caltech10', d, n_unl, n_pos, prior, nb_reps, nb_dummies)\n",
    "    avg_caltech_gw_groups_surf.append(perfs_caltech_surf['pgw'])"
   ]
  },
  {
   "cell_type": "markdown",
   "metadata": {},
   "source": [
    "### Tab. 2"
   ]
  },
  {
   "cell_type": "code",
   "execution_count": 14,
   "metadata": {},
   "outputs": [
    {
     "data": {
      "text/html": [
       "<div>\n",
       "<style scoped>\n",
       "    .dataframe tbody tr th:only-of-type {\n",
       "        vertical-align: middle;\n",
       "    }\n",
       "\n",
       "    .dataframe tbody tr th {\n",
       "        vertical-align: top;\n",
       "    }\n",
       "\n",
       "    .dataframe thead th {\n",
       "        text-align: right;\n",
       "    }\n",
       "</style>\n",
       "<table border=\"1\" class=\"dataframe\">\n",
       "  <thead>\n",
       "    <tr style=\"text-align: right;\">\n",
       "      <th></th>\n",
       "      <th>domains</th>\n",
       "      <th>surf C -&gt; decaf *</th>\n",
       "      <th>decaf C -&gt; surf *</th>\n",
       "    </tr>\n",
       "  </thead>\n",
       "  <tbody>\n",
       "    <tr>\n",
       "      <th>0</th>\n",
       "      <td>*= C</td>\n",
       "      <td>0.874</td>\n",
       "      <td>0.860</td>\n",
       "    </tr>\n",
       "    <tr>\n",
       "      <th>1</th>\n",
       "      <td>*= A</td>\n",
       "      <td>0.940</td>\n",
       "      <td>0.866</td>\n",
       "    </tr>\n",
       "    <tr>\n",
       "      <th>2</th>\n",
       "      <td>*= W</td>\n",
       "      <td>0.944</td>\n",
       "      <td>0.894</td>\n",
       "    </tr>\n",
       "    <tr>\n",
       "      <th>3</th>\n",
       "      <td>*= D</td>\n",
       "      <td>0.966</td>\n",
       "      <td>0.866</td>\n",
       "    </tr>\n",
       "  </tbody>\n",
       "</table>\n",
       "</div>"
      ],
      "text/plain": [
       "  domains  surf C -> decaf *  decaf C -> surf *\n",
       "0    *= C              0.874              0.860\n",
       "1    *= A              0.940              0.866\n",
       "2    *= W              0.944              0.894\n",
       "3    *= D              0.966              0.866"
      ]
     },
     "execution_count": 14,
     "metadata": {},
     "output_type": "execute_result"
    }
   ],
   "source": [
    "results_caltech_diff_features = {'domains':['*= C', '*= A', '*= W', '*= D'], \n",
    "               'surf C -> decaf *': avg_caltech_gw_groups_surf,\n",
    "               'decaf C -> surf *': avg_caltech_gw_groups_decaf,\n",
    "              }\n",
    "results_caltech_diff_features = pd.DataFrame(data=results_caltech_diff_features)\n",
    "results_caltech_diff_features"
   ]
  }
 ],
 "metadata": {
  "kernelspec": {
   "display_name": "Python 3",
   "language": "python",
   "name": "python3"
  },
  "language_info": {
   "codemirror_mode": {
    "name": "ipython",
    "version": 3
   },
   "file_extension": ".py",
   "mimetype": "text/x-python",
   "name": "python",
   "nbconvert_exporter": "python",
   "pygments_lexer": "ipython3",
   "version": "3.7.4"
  }
 },
 "nbformat": 4,
 "nbformat_minor": 2
}
